{
 "cells": [
  {
   "cell_type": "code",
   "execution_count": 1,
   "id": "d7940415",
   "metadata": {},
   "outputs": [],
   "source": [
    "import pandas as pd\n",
    "import datetime as dt\n",
    "import os\n",
    "import glob\n",
    "os.chdir(\"Data/\")\n",
    "import math\n",
    "\n"
   ]
  },
  {
   "cell_type": "code",
   "execution_count": 2,
   "id": "b8f1600a",
   "metadata": {},
   "outputs": [],
   "source": [
    "extension = 'csv'\n",
    "all_filenames = [i for i in glob.glob('*.{}'.format(extension))]"
   ]
  },
  {
   "cell_type": "code",
   "execution_count": 3,
   "id": "a0304081",
   "metadata": {},
   "outputs": [],
   "source": [
    "combined_csv = pd.concat([pd.read_csv(f) for f in all_filenames ])\n"
   ]
  },
  {
   "cell_type": "code",
   "execution_count": 4,
   "id": "f4f41f2c",
   "metadata": {},
   "outputs": [],
   "source": [
    "combined_csv.to_csv( \"combined_csv.csv\", index=False, encoding='utf-8-sig')"
   ]
  },
  {
   "cell_type": "code",
   "execution_count": 5,
   "id": "5756d2a6",
   "metadata": {},
   "outputs": [],
   "source": [
    "#file_to_load = \"Data/combined_csv.csv\"\n",
    "#combined_df = pd.read_csv(file_to_load)\n",
    "#combined_df.tail(1)"
   ]
  },
  {
   "cell_type": "code",
   "execution_count": 6,
   "id": "bdef14b2",
   "metadata": {},
   "outputs": [
    {
     "name": "stderr",
     "output_type": "stream",
     "text": [
      "C:\\Users\\Irina\\Anaconda3\\lib\\site-packages\\IPython\\core\\interactiveshell.py:3165: DtypeWarning: Columns (14,15,16) have mixed types.Specify dtype option on import or set low_memory=False.\n",
      "  has_raised = await self.run_ast_nodes(code_ast.body, cell_name,\n"
     ]
    },
    {
     "data": {
      "text/html": [
       "<div>\n",
       "<style scoped>\n",
       "    .dataframe tbody tr th:only-of-type {\n",
       "        vertical-align: middle;\n",
       "    }\n",
       "\n",
       "    .dataframe tbody tr th {\n",
       "        vertical-align: top;\n",
       "    }\n",
       "\n",
       "    .dataframe thead th {\n",
       "        text-align: right;\n",
       "    }\n",
       "</style>\n",
       "<table border=\"1\" class=\"dataframe\">\n",
       "  <thead>\n",
       "    <tr style=\"text-align: right;\">\n",
       "      <th></th>\n",
       "      <th>tripduration</th>\n",
       "      <th>starttime</th>\n",
       "      <th>stoptime</th>\n",
       "      <th>start station id</th>\n",
       "      <th>start station name</th>\n",
       "      <th>start station latitude</th>\n",
       "      <th>start station longitude</th>\n",
       "      <th>end station id</th>\n",
       "      <th>end station name</th>\n",
       "      <th>end station latitude</th>\n",
       "      <th>end station longitude</th>\n",
       "      <th>bikeid</th>\n",
       "      <th>usertype</th>\n",
       "      <th>birth year</th>\n",
       "      <th>gender</th>\n",
       "      <th>start_time</th>\n",
       "      <th>stop_time</th>\n",
       "    </tr>\n",
       "  </thead>\n",
       "  <tbody>\n",
       "    <tr>\n",
       "      <th>6829546</th>\n",
       "      <td>621.0</td>\n",
       "      <td>2019-09-30 23:11:40.0630</td>\n",
       "      <td>2019-09-30 23:22:01.8370</td>\n",
       "      <td>3194</td>\n",
       "      <td>McGinley Square</td>\n",
       "      <td>40.725340</td>\n",
       "      <td>-74.067622</td>\n",
       "      <td>3191</td>\n",
       "      <td>Union St</td>\n",
       "      <td>40.718211</td>\n",
       "      <td>-74.083639</td>\n",
       "      <td>26245</td>\n",
       "      <td>Subscriber</td>\n",
       "      <td>1962</td>\n",
       "      <td>1</td>\n",
       "      <td>NaN</td>\n",
       "      <td>NaN</td>\n",
       "    </tr>\n",
       "    <tr>\n",
       "      <th>6829547</th>\n",
       "      <td>167.0</td>\n",
       "      <td>2019-09-30 23:19:02.9380</td>\n",
       "      <td>2019-09-30 23:21:50.8290</td>\n",
       "      <td>3211</td>\n",
       "      <td>Newark Ave</td>\n",
       "      <td>40.721525</td>\n",
       "      <td>-74.046305</td>\n",
       "      <td>3209</td>\n",
       "      <td>Brunswick St</td>\n",
       "      <td>40.724176</td>\n",
       "      <td>-74.050656</td>\n",
       "      <td>29525</td>\n",
       "      <td>Subscriber</td>\n",
       "      <td>1984</td>\n",
       "      <td>1</td>\n",
       "      <td>NaN</td>\n",
       "      <td>NaN</td>\n",
       "    </tr>\n",
       "    <tr>\n",
       "      <th>6829548</th>\n",
       "      <td>94.0</td>\n",
       "      <td>2019-09-30 23:26:24.7470</td>\n",
       "      <td>2019-09-30 23:27:59.2310</td>\n",
       "      <td>3213</td>\n",
       "      <td>Van Vorst Park</td>\n",
       "      <td>40.718489</td>\n",
       "      <td>-74.047727</td>\n",
       "      <td>3483</td>\n",
       "      <td>Montgomery St</td>\n",
       "      <td>40.719420</td>\n",
       "      <td>-74.050990</td>\n",
       "      <td>26317</td>\n",
       "      <td>Subscriber</td>\n",
       "      <td>1958</td>\n",
       "      <td>1</td>\n",
       "      <td>NaN</td>\n",
       "      <td>NaN</td>\n",
       "    </tr>\n",
       "    <tr>\n",
       "      <th>6829549</th>\n",
       "      <td>366.0</td>\n",
       "      <td>2019-09-30 23:49:00.4260</td>\n",
       "      <td>2019-09-30 23:55:06.9620</td>\n",
       "      <td>3638</td>\n",
       "      <td>Washington St</td>\n",
       "      <td>40.724294</td>\n",
       "      <td>-74.035483</td>\n",
       "      <td>3270</td>\n",
       "      <td>Jersey &amp; 6th St</td>\n",
       "      <td>40.725289</td>\n",
       "      <td>-74.045572</td>\n",
       "      <td>29488</td>\n",
       "      <td>Subscriber</td>\n",
       "      <td>1976</td>\n",
       "      <td>1</td>\n",
       "      <td>NaN</td>\n",
       "      <td>NaN</td>\n",
       "    </tr>\n",
       "    <tr>\n",
       "      <th>6829550</th>\n",
       "      <td>150.0</td>\n",
       "      <td>2019-09-30 23:56:30.1980</td>\n",
       "      <td>2019-09-30 23:59:00.6750</td>\n",
       "      <td>3276</td>\n",
       "      <td>Marin Light Rail</td>\n",
       "      <td>40.714584</td>\n",
       "      <td>-74.042817</td>\n",
       "      <td>3213</td>\n",
       "      <td>Van Vorst Park</td>\n",
       "      <td>40.718489</td>\n",
       "      <td>-74.047727</td>\n",
       "      <td>29498</td>\n",
       "      <td>Subscriber</td>\n",
       "      <td>1982</td>\n",
       "      <td>1</td>\n",
       "      <td>NaN</td>\n",
       "      <td>NaN</td>\n",
       "    </tr>\n",
       "  </tbody>\n",
       "</table>\n",
       "</div>"
      ],
      "text/plain": [
       "         tripduration                 starttime                  stoptime  \\\n",
       "6829546         621.0  2019-09-30 23:11:40.0630  2019-09-30 23:22:01.8370   \n",
       "6829547         167.0  2019-09-30 23:19:02.9380  2019-09-30 23:21:50.8290   \n",
       "6829548          94.0  2019-09-30 23:26:24.7470  2019-09-30 23:27:59.2310   \n",
       "6829549         366.0  2019-09-30 23:49:00.4260  2019-09-30 23:55:06.9620   \n",
       "6829550         150.0  2019-09-30 23:56:30.1980  2019-09-30 23:59:00.6750   \n",
       "\n",
       "         start station id start station name  start station latitude  \\\n",
       "6829546              3194    McGinley Square               40.725340   \n",
       "6829547              3211         Newark Ave               40.721525   \n",
       "6829548              3213     Van Vorst Park               40.718489   \n",
       "6829549              3638      Washington St               40.724294   \n",
       "6829550              3276   Marin Light Rail               40.714584   \n",
       "\n",
       "         start station longitude  end station id end station name  \\\n",
       "6829546               -74.067622            3191         Union St   \n",
       "6829547               -74.046305            3209     Brunswick St   \n",
       "6829548               -74.047727            3483    Montgomery St   \n",
       "6829549               -74.035483            3270  Jersey & 6th St   \n",
       "6829550               -74.042817            3213   Van Vorst Park   \n",
       "\n",
       "         end station latitude  end station longitude  bikeid    usertype  \\\n",
       "6829546             40.718211             -74.083639   26245  Subscriber   \n",
       "6829547             40.724176             -74.050656   29525  Subscriber   \n",
       "6829548             40.719420             -74.050990   26317  Subscriber   \n",
       "6829549             40.725289             -74.045572   29488  Subscriber   \n",
       "6829550             40.718489             -74.047727   29498  Subscriber   \n",
       "\n",
       "         birth year gender start_time stop_time  \n",
       "6829546        1962      1        NaN       NaN  \n",
       "6829547        1984      1        NaN       NaN  \n",
       "6829548        1958      1        NaN       NaN  \n",
       "6829549        1976      1        NaN       NaN  \n",
       "6829550        1982      1        NaN       NaN  "
      ]
     },
     "execution_count": 6,
     "metadata": {},
     "output_type": "execute_result"
    }
   ],
   "source": [
    "combined_data = pd.read_csv(\"combined_csv.csv\")\n",
    "combined_data.tail(5)"
   ]
  },
  {
   "cell_type": "code",
   "execution_count": 7,
   "id": "47616d4c",
   "metadata": {},
   "outputs": [],
   "source": [
    "combined_data[['starttime', 'start_time']] = combined_data['starttime'].str.split(' ',expand=True)"
   ]
  },
  {
   "cell_type": "code",
   "execution_count": 8,
   "id": "eb5da1fa",
   "metadata": {},
   "outputs": [],
   "source": [
    "combined_data[['stoptime', 'stop_time']] = combined_data['stoptime'].str.split(' ',expand=True)"
   ]
  },
  {
   "cell_type": "code",
   "execution_count": 9,
   "id": "376d2de2",
   "metadata": {},
   "outputs": [
    {
     "data": {
      "text/html": [
       "<div>\n",
       "<style scoped>\n",
       "    .dataframe tbody tr th:only-of-type {\n",
       "        vertical-align: middle;\n",
       "    }\n",
       "\n",
       "    .dataframe tbody tr th {\n",
       "        vertical-align: top;\n",
       "    }\n",
       "\n",
       "    .dataframe thead th {\n",
       "        text-align: right;\n",
       "    }\n",
       "</style>\n",
       "<table border=\"1\" class=\"dataframe\">\n",
       "  <thead>\n",
       "    <tr style=\"text-align: right;\">\n",
       "      <th></th>\n",
       "      <th>tripduration</th>\n",
       "      <th>starttime</th>\n",
       "      <th>stoptime</th>\n",
       "      <th>start station id</th>\n",
       "      <th>start station name</th>\n",
       "      <th>start station latitude</th>\n",
       "      <th>start station longitude</th>\n",
       "      <th>end station id</th>\n",
       "      <th>end station name</th>\n",
       "      <th>end station latitude</th>\n",
       "      <th>end station longitude</th>\n",
       "      <th>bikeid</th>\n",
       "      <th>usertype</th>\n",
       "      <th>birth year</th>\n",
       "      <th>gender</th>\n",
       "      <th>start_time</th>\n",
       "      <th>stop_time</th>\n",
       "    </tr>\n",
       "  </thead>\n",
       "  <tbody>\n",
       "    <tr>\n",
       "      <th>0</th>\n",
       "      <td>1814.0</td>\n",
       "      <td>2018-04-01</td>\n",
       "      <td>2018-04-01</td>\n",
       "      <td>3183</td>\n",
       "      <td>Exchange Place</td>\n",
       "      <td>40.716247</td>\n",
       "      <td>-74.033459</td>\n",
       "      <td>3638</td>\n",
       "      <td>Washington St</td>\n",
       "      <td>40.724294</td>\n",
       "      <td>-74.035483</td>\n",
       "      <td>26175</td>\n",
       "      <td>Subscriber</td>\n",
       "      <td>1978</td>\n",
       "      <td>1</td>\n",
       "      <td>09:43:51.1590</td>\n",
       "      <td>10:14:06.1300</td>\n",
       "    </tr>\n",
       "    <tr>\n",
       "      <th>1</th>\n",
       "      <td>298.0</td>\n",
       "      <td>2018-04-01</td>\n",
       "      <td>2018-04-01</td>\n",
       "      <td>3183</td>\n",
       "      <td>Exchange Place</td>\n",
       "      <td>40.716247</td>\n",
       "      <td>-74.033459</td>\n",
       "      <td>3187</td>\n",
       "      <td>Warren St</td>\n",
       "      <td>40.721124</td>\n",
       "      <td>-74.038051</td>\n",
       "      <td>31847</td>\n",
       "      <td>Subscriber</td>\n",
       "      <td>1979</td>\n",
       "      <td>1</td>\n",
       "      <td>11:42:53.7090</td>\n",
       "      <td>11:47:51.8770</td>\n",
       "    </tr>\n",
       "    <tr>\n",
       "      <th>2</th>\n",
       "      <td>1060.0</td>\n",
       "      <td>2018-04-01</td>\n",
       "      <td>2018-04-01</td>\n",
       "      <td>3183</td>\n",
       "      <td>Exchange Place</td>\n",
       "      <td>40.716247</td>\n",
       "      <td>-74.033459</td>\n",
       "      <td>3192</td>\n",
       "      <td>Liberty Light Rail</td>\n",
       "      <td>40.711242</td>\n",
       "      <td>-74.055701</td>\n",
       "      <td>33463</td>\n",
       "      <td>Subscriber</td>\n",
       "      <td>1972</td>\n",
       "      <td>1</td>\n",
       "      <td>12:43:11.9640</td>\n",
       "      <td>13:00:52.8700</td>\n",
       "    </tr>\n",
       "  </tbody>\n",
       "</table>\n",
       "</div>"
      ],
      "text/plain": [
       "   tripduration   starttime    stoptime  start station id start station name  \\\n",
       "0        1814.0  2018-04-01  2018-04-01              3183     Exchange Place   \n",
       "1         298.0  2018-04-01  2018-04-01              3183     Exchange Place   \n",
       "2        1060.0  2018-04-01  2018-04-01              3183     Exchange Place   \n",
       "\n",
       "   start station latitude  start station longitude  end station id  \\\n",
       "0               40.716247               -74.033459            3638   \n",
       "1               40.716247               -74.033459            3187   \n",
       "2               40.716247               -74.033459            3192   \n",
       "\n",
       "     end station name  end station latitude  end station longitude  bikeid  \\\n",
       "0       Washington St             40.724294             -74.035483   26175   \n",
       "1           Warren St             40.721124             -74.038051   31847   \n",
       "2  Liberty Light Rail             40.711242             -74.055701   33463   \n",
       "\n",
       "     usertype  birth year gender     start_time      stop_time  \n",
       "0  Subscriber        1978      1  09:43:51.1590  10:14:06.1300  \n",
       "1  Subscriber        1979      1  11:42:53.7090  11:47:51.8770  \n",
       "2  Subscriber        1972      1  12:43:11.9640  13:00:52.8700  "
      ]
     },
     "execution_count": 9,
     "metadata": {},
     "output_type": "execute_result"
    }
   ],
   "source": [
    "combined_data.head(3)"
   ]
  },
  {
   "cell_type": "code",
   "execution_count": 10,
   "id": "ec53320f",
   "metadata": {},
   "outputs": [],
   "source": [
    "combined_data['tripduration'] =combined_data['tripduration']/60"
   ]
  },
  {
   "cell_type": "code",
   "execution_count": 11,
   "id": "94bb54c2",
   "metadata": {},
   "outputs": [
    {
     "data": {
      "text/html": [
       "<div>\n",
       "<style scoped>\n",
       "    .dataframe tbody tr th:only-of-type {\n",
       "        vertical-align: middle;\n",
       "    }\n",
       "\n",
       "    .dataframe tbody tr th {\n",
       "        vertical-align: top;\n",
       "    }\n",
       "\n",
       "    .dataframe thead th {\n",
       "        text-align: right;\n",
       "    }\n",
       "</style>\n",
       "<table border=\"1\" class=\"dataframe\">\n",
       "  <thead>\n",
       "    <tr style=\"text-align: right;\">\n",
       "      <th></th>\n",
       "      <th>tripduration</th>\n",
       "      <th>starttime</th>\n",
       "      <th>stoptime</th>\n",
       "      <th>start station id</th>\n",
       "      <th>start station name</th>\n",
       "      <th>start station latitude</th>\n",
       "      <th>start station longitude</th>\n",
       "      <th>end station id</th>\n",
       "      <th>end station name</th>\n",
       "      <th>end station latitude</th>\n",
       "      <th>end station longitude</th>\n",
       "      <th>bikeid</th>\n",
       "      <th>usertype</th>\n",
       "      <th>birth year</th>\n",
       "      <th>gender</th>\n",
       "      <th>start_time</th>\n",
       "      <th>stop_time</th>\n",
       "    </tr>\n",
       "  </thead>\n",
       "  <tbody>\n",
       "    <tr>\n",
       "      <th>6829548</th>\n",
       "      <td>1.566667</td>\n",
       "      <td>2019-09-30</td>\n",
       "      <td>2019-09-30</td>\n",
       "      <td>3213</td>\n",
       "      <td>Van Vorst Park</td>\n",
       "      <td>40.718489</td>\n",
       "      <td>-74.047727</td>\n",
       "      <td>3483</td>\n",
       "      <td>Montgomery St</td>\n",
       "      <td>40.719420</td>\n",
       "      <td>-74.050990</td>\n",
       "      <td>26317</td>\n",
       "      <td>Subscriber</td>\n",
       "      <td>1958</td>\n",
       "      <td>1</td>\n",
       "      <td>23:26:24.7470</td>\n",
       "      <td>23:27:59.2310</td>\n",
       "    </tr>\n",
       "    <tr>\n",
       "      <th>6829549</th>\n",
       "      <td>6.100000</td>\n",
       "      <td>2019-09-30</td>\n",
       "      <td>2019-09-30</td>\n",
       "      <td>3638</td>\n",
       "      <td>Washington St</td>\n",
       "      <td>40.724294</td>\n",
       "      <td>-74.035483</td>\n",
       "      <td>3270</td>\n",
       "      <td>Jersey &amp; 6th St</td>\n",
       "      <td>40.725289</td>\n",
       "      <td>-74.045572</td>\n",
       "      <td>29488</td>\n",
       "      <td>Subscriber</td>\n",
       "      <td>1976</td>\n",
       "      <td>1</td>\n",
       "      <td>23:49:00.4260</td>\n",
       "      <td>23:55:06.9620</td>\n",
       "    </tr>\n",
       "    <tr>\n",
       "      <th>6829550</th>\n",
       "      <td>2.500000</td>\n",
       "      <td>2019-09-30</td>\n",
       "      <td>2019-09-30</td>\n",
       "      <td>3276</td>\n",
       "      <td>Marin Light Rail</td>\n",
       "      <td>40.714584</td>\n",
       "      <td>-74.042817</td>\n",
       "      <td>3213</td>\n",
       "      <td>Van Vorst Park</td>\n",
       "      <td>40.718489</td>\n",
       "      <td>-74.047727</td>\n",
       "      <td>29498</td>\n",
       "      <td>Subscriber</td>\n",
       "      <td>1982</td>\n",
       "      <td>1</td>\n",
       "      <td>23:56:30.1980</td>\n",
       "      <td>23:59:00.6750</td>\n",
       "    </tr>\n",
       "  </tbody>\n",
       "</table>\n",
       "</div>"
      ],
      "text/plain": [
       "         tripduration   starttime    stoptime  start station id  \\\n",
       "6829548      1.566667  2019-09-30  2019-09-30              3213   \n",
       "6829549      6.100000  2019-09-30  2019-09-30              3638   \n",
       "6829550      2.500000  2019-09-30  2019-09-30              3276   \n",
       "\n",
       "        start station name  start station latitude  start station longitude  \\\n",
       "6829548     Van Vorst Park               40.718489               -74.047727   \n",
       "6829549      Washington St               40.724294               -74.035483   \n",
       "6829550   Marin Light Rail               40.714584               -74.042817   \n",
       "\n",
       "         end station id end station name  end station latitude  \\\n",
       "6829548            3483    Montgomery St             40.719420   \n",
       "6829549            3270  Jersey & 6th St             40.725289   \n",
       "6829550            3213   Van Vorst Park             40.718489   \n",
       "\n",
       "         end station longitude  bikeid    usertype  birth year gender  \\\n",
       "6829548             -74.050990   26317  Subscriber        1958      1   \n",
       "6829549             -74.045572   29488  Subscriber        1976      1   \n",
       "6829550             -74.047727   29498  Subscriber        1982      1   \n",
       "\n",
       "            start_time      stop_time  \n",
       "6829548  23:26:24.7470  23:27:59.2310  \n",
       "6829549  23:49:00.4260  23:55:06.9620  \n",
       "6829550  23:56:30.1980  23:59:00.6750  "
      ]
     },
     "execution_count": 11,
     "metadata": {},
     "output_type": "execute_result"
    }
   ],
   "source": [
    "combined_data.tail(3)"
   ]
  },
  {
   "cell_type": "code",
   "execution_count": null,
   "id": "84f9157c",
   "metadata": {},
   "outputs": [],
   "source": []
  },
  {
   "cell_type": "code",
   "execution_count": 12,
   "id": "95fddeaa",
   "metadata": {},
   "outputs": [
    {
     "data": {
      "text/html": [
       "<div>\n",
       "<style scoped>\n",
       "    .dataframe tbody tr th:only-of-type {\n",
       "        vertical-align: middle;\n",
       "    }\n",
       "\n",
       "    .dataframe tbody tr th {\n",
       "        vertical-align: top;\n",
       "    }\n",
       "\n",
       "    .dataframe thead th {\n",
       "        text-align: right;\n",
       "    }\n",
       "</style>\n",
       "<table border=\"1\" class=\"dataframe\">\n",
       "  <thead>\n",
       "    <tr style=\"text-align: right;\">\n",
       "      <th></th>\n",
       "      <th>tripduration</th>\n",
       "      <th>starttime</th>\n",
       "      <th>stoptime</th>\n",
       "      <th>start station id</th>\n",
       "      <th>start station name</th>\n",
       "      <th>start station latitude</th>\n",
       "      <th>start station longitude</th>\n",
       "      <th>end station id</th>\n",
       "      <th>end station name</th>\n",
       "      <th>end station latitude</th>\n",
       "      <th>end station longitude</th>\n",
       "      <th>bikeid</th>\n",
       "      <th>usertype</th>\n",
       "      <th>birth year</th>\n",
       "      <th>gender</th>\n",
       "      <th>start_time</th>\n",
       "      <th>stop_time</th>\n",
       "    </tr>\n",
       "  </thead>\n",
       "  <tbody>\n",
       "    <tr>\n",
       "      <th>6829548</th>\n",
       "      <td>1.566667</td>\n",
       "      <td>2019-09-30</td>\n",
       "      <td>2019-09-30</td>\n",
       "      <td>3213</td>\n",
       "      <td>Van Vorst Park</td>\n",
       "      <td>40.718489</td>\n",
       "      <td>-74.047727</td>\n",
       "      <td>3483</td>\n",
       "      <td>Montgomery St</td>\n",
       "      <td>40.719420</td>\n",
       "      <td>-74.050990</td>\n",
       "      <td>26317</td>\n",
       "      <td>Subscriber</td>\n",
       "      <td>1958</td>\n",
       "      <td>1</td>\n",
       "      <td>23:26:24.7470</td>\n",
       "      <td>23:27:59.2310</td>\n",
       "    </tr>\n",
       "    <tr>\n",
       "      <th>6829549</th>\n",
       "      <td>6.100000</td>\n",
       "      <td>2019-09-30</td>\n",
       "      <td>2019-09-30</td>\n",
       "      <td>3638</td>\n",
       "      <td>Washington St</td>\n",
       "      <td>40.724294</td>\n",
       "      <td>-74.035483</td>\n",
       "      <td>3270</td>\n",
       "      <td>Jersey &amp; 6th St</td>\n",
       "      <td>40.725289</td>\n",
       "      <td>-74.045572</td>\n",
       "      <td>29488</td>\n",
       "      <td>Subscriber</td>\n",
       "      <td>1976</td>\n",
       "      <td>1</td>\n",
       "      <td>23:49:00.4260</td>\n",
       "      <td>23:55:06.9620</td>\n",
       "    </tr>\n",
       "    <tr>\n",
       "      <th>6829550</th>\n",
       "      <td>2.500000</td>\n",
       "      <td>2019-09-30</td>\n",
       "      <td>2019-09-30</td>\n",
       "      <td>3276</td>\n",
       "      <td>Marin Light Rail</td>\n",
       "      <td>40.714584</td>\n",
       "      <td>-74.042817</td>\n",
       "      <td>3213</td>\n",
       "      <td>Van Vorst Park</td>\n",
       "      <td>40.718489</td>\n",
       "      <td>-74.047727</td>\n",
       "      <td>29498</td>\n",
       "      <td>Subscriber</td>\n",
       "      <td>1982</td>\n",
       "      <td>1</td>\n",
       "      <td>23:56:30.1980</td>\n",
       "      <td>23:59:00.6750</td>\n",
       "    </tr>\n",
       "  </tbody>\n",
       "</table>\n",
       "</div>"
      ],
      "text/plain": [
       "         tripduration   starttime    stoptime  start station id  \\\n",
       "6829548      1.566667  2019-09-30  2019-09-30              3213   \n",
       "6829549      6.100000  2019-09-30  2019-09-30              3638   \n",
       "6829550      2.500000  2019-09-30  2019-09-30              3276   \n",
       "\n",
       "        start station name  start station latitude  start station longitude  \\\n",
       "6829548     Van Vorst Park               40.718489               -74.047727   \n",
       "6829549      Washington St               40.724294               -74.035483   \n",
       "6829550   Marin Light Rail               40.714584               -74.042817   \n",
       "\n",
       "         end station id end station name  end station latitude  \\\n",
       "6829548            3483    Montgomery St             40.719420   \n",
       "6829549            3270  Jersey & 6th St             40.725289   \n",
       "6829550            3213   Van Vorst Park             40.718489   \n",
       "\n",
       "         end station longitude  bikeid    usertype  birth year gender  \\\n",
       "6829548             -74.050990   26317  Subscriber        1958      1   \n",
       "6829549             -74.045572   29488  Subscriber        1976      1   \n",
       "6829550             -74.047727   29498  Subscriber        1982      1   \n",
       "\n",
       "            start_time      stop_time  \n",
       "6829548  23:26:24.7470  23:27:59.2310  \n",
       "6829549  23:49:00.4260  23:55:06.9620  \n",
       "6829550  23:56:30.1980  23:59:00.6750  "
      ]
     },
     "execution_count": 12,
     "metadata": {},
     "output_type": "execute_result"
    }
   ],
   "source": [
    "combined_data.tail(3)"
   ]
  },
  {
   "cell_type": "code",
   "execution_count": 13,
   "id": "e132bdbe",
   "metadata": {},
   "outputs": [],
   "source": [
    "combined_data['gender']=combined_data['gender'].replace(0,'unknown')"
   ]
  },
  {
   "cell_type": "code",
   "execution_count": 14,
   "id": "ff761636",
   "metadata": {},
   "outputs": [],
   "source": [
    "combined_data['gender']=combined_data['gender'].replace(1,'male')"
   ]
  },
  {
   "cell_type": "code",
   "execution_count": 15,
   "id": "89872b5b",
   "metadata": {},
   "outputs": [],
   "source": [
    "combined_data['gender']=combined_data['gender'].replace(2,'female')"
   ]
  },
  {
   "cell_type": "code",
   "execution_count": 16,
   "id": "c6dafeff",
   "metadata": {},
   "outputs": [
    {
     "data": {
      "text/plain": [
       "6829551"
      ]
     },
     "execution_count": 16,
     "metadata": {},
     "output_type": "execute_result"
    }
   ],
   "source": [
    "len(combined_data.starttime)"
   ]
  },
  {
   "cell_type": "code",
   "execution_count": 17,
   "id": "b2c3027e",
   "metadata": {},
   "outputs": [],
   "source": [
    "filter2018 =len(combined_data[(combined_data.starttime >'2018-01-01') &(combined_data.starttime <='2018-12-31')].index)\n",
    "\n",
    "filter2019 =len(combined_data[(combined_data.starttime >'2019-01-01') &(combined_data.starttime <='2019-12-31')].index)\n"
   ]
  },
  {
   "cell_type": "code",
   "execution_count": null,
   "id": "a9db7c08",
   "metadata": {},
   "outputs": [],
   "source": []
  },
  {
   "cell_type": "code",
   "execution_count": 18,
   "id": "f8b6b087",
   "metadata": {},
   "outputs": [
    {
     "name": "stdout",
     "output_type": "stream",
     "text": [
      "Total trips in 2018 and 2019:  6829551\n",
      "Total trips in 2018:  3184119\n",
      "Total trips in 2019:  3640644\n",
      "Percentage growth of ridership in 2019 :  14.337560876336594\n"
     ]
    }
   ],
   "source": [
    "print('Total trips in 2018 and 2019: ',len(combined_data.starttime))\n",
    "print('Total trips in 2018: ',filter2018)\n",
    "print('Total trips in 2019: ',filter2019)\n",
    "print('Percentage growth of ridership in 2019 : ', 100*(((filter2019-filter2018)/filter2018)))\n"
   ]
  },
  {
   "cell_type": "code",
   "execution_count": 19,
   "id": "c9852254",
   "metadata": {},
   "outputs": [],
   "source": [
    "filter2018_usertype = combined_data[(combined_data.starttime >'2018-01-01') &(combined_data.starttime <='2018-12-31')]"
   ]
  },
  {
   "cell_type": "code",
   "execution_count": 20,
   "id": "b424d230",
   "metadata": {},
   "outputs": [],
   "source": [
    "filter2018_usertype_grouped = filter2018_usertype.groupby('usertype')"
   ]
  },
  {
   "cell_type": "code",
   "execution_count": 21,
   "id": "9fb02009",
   "metadata": {},
   "outputs": [
    {
     "data": {
      "text/html": [
       "<div>\n",
       "<style scoped>\n",
       "    .dataframe tbody tr th:only-of-type {\n",
       "        vertical-align: middle;\n",
       "    }\n",
       "\n",
       "    .dataframe tbody tr th {\n",
       "        vertical-align: top;\n",
       "    }\n",
       "\n",
       "    .dataframe thead th {\n",
       "        text-align: right;\n",
       "    }\n",
       "</style>\n",
       "<table border=\"1\" class=\"dataframe\">\n",
       "  <thead>\n",
       "    <tr style=\"text-align: right;\">\n",
       "      <th></th>\n",
       "      <th>tripduration</th>\n",
       "      <th>starttime</th>\n",
       "      <th>stoptime</th>\n",
       "      <th>start station id</th>\n",
       "      <th>start station name</th>\n",
       "      <th>start station latitude</th>\n",
       "      <th>start station longitude</th>\n",
       "      <th>end station id</th>\n",
       "      <th>end station name</th>\n",
       "      <th>end station latitude</th>\n",
       "      <th>end station longitude</th>\n",
       "      <th>bikeid</th>\n",
       "      <th>birth year</th>\n",
       "      <th>gender</th>\n",
       "      <th>start_time</th>\n",
       "      <th>stop_time</th>\n",
       "    </tr>\n",
       "    <tr>\n",
       "      <th>usertype</th>\n",
       "      <th></th>\n",
       "      <th></th>\n",
       "      <th></th>\n",
       "      <th></th>\n",
       "      <th></th>\n",
       "      <th></th>\n",
       "      <th></th>\n",
       "      <th></th>\n",
       "      <th></th>\n",
       "      <th></th>\n",
       "      <th></th>\n",
       "      <th></th>\n",
       "      <th></th>\n",
       "      <th></th>\n",
       "      <th></th>\n",
       "      <th></th>\n",
       "    </tr>\n",
       "  </thead>\n",
       "  <tbody>\n",
       "    <tr>\n",
       "      <th>Customer</th>\n",
       "      <td>199503</td>\n",
       "      <td>199503</td>\n",
       "      <td>199503</td>\n",
       "      <td>199503</td>\n",
       "      <td>199503</td>\n",
       "      <td>199503</td>\n",
       "      <td>199503</td>\n",
       "      <td>199503</td>\n",
       "      <td>199503</td>\n",
       "      <td>199503</td>\n",
       "      <td>199503</td>\n",
       "      <td>199503</td>\n",
       "      <td>199503</td>\n",
       "      <td>199503</td>\n",
       "      <td>110835</td>\n",
       "      <td>110835</td>\n",
       "    </tr>\n",
       "    <tr>\n",
       "      <th>Subscriber</th>\n",
       "      <td>2984616</td>\n",
       "      <td>2984616</td>\n",
       "      <td>2984616</td>\n",
       "      <td>2984616</td>\n",
       "      <td>2984616</td>\n",
       "      <td>2984616</td>\n",
       "      <td>2984616</td>\n",
       "      <td>2984616</td>\n",
       "      <td>2984616</td>\n",
       "      <td>2984616</td>\n",
       "      <td>2984616</td>\n",
       "      <td>2984616</td>\n",
       "      <td>2984616</td>\n",
       "      <td>2984616</td>\n",
       "      <td>1658120</td>\n",
       "      <td>1658120</td>\n",
       "    </tr>\n",
       "  </tbody>\n",
       "</table>\n",
       "</div>"
      ],
      "text/plain": [
       "            tripduration  starttime  stoptime  start station id  \\\n",
       "usertype                                                          \n",
       "Customer          199503     199503    199503            199503   \n",
       "Subscriber       2984616    2984616   2984616           2984616   \n",
       "\n",
       "            start station name  start station latitude  \\\n",
       "usertype                                                 \n",
       "Customer                199503                  199503   \n",
       "Subscriber             2984616                 2984616   \n",
       "\n",
       "            start station longitude  end station id  end station name  \\\n",
       "usertype                                                                \n",
       "Customer                     199503          199503            199503   \n",
       "Subscriber                  2984616         2984616           2984616   \n",
       "\n",
       "            end station latitude  end station longitude   bikeid  birth year  \\\n",
       "usertype                                                                       \n",
       "Customer                  199503                 199503   199503      199503   \n",
       "Subscriber               2984616                2984616  2984616     2984616   \n",
       "\n",
       "             gender  start_time  stop_time  \n",
       "usertype                                    \n",
       "Customer     199503      110835     110835  \n",
       "Subscriber  2984616     1658120    1658120  "
      ]
     },
     "execution_count": 21,
     "metadata": {},
     "output_type": "execute_result"
    }
   ],
   "source": [
    "filtered_2018_usertype =filter2018_usertype_grouped.count()\n",
    "filtered_2018_usertype"
   ]
  },
  {
   "cell_type": "code",
   "execution_count": 22,
   "id": "19c150db",
   "metadata": {},
   "outputs": [
    {
     "data": {
      "text/plain": [
       "199503"
      ]
     },
     "execution_count": 22,
     "metadata": {},
     "output_type": "execute_result"
    }
   ],
   "source": [
    "customer_2018_cus=filtered_2018_usertype['tripduration'][0]\n",
    "customer_2018_cus"
   ]
  },
  {
   "cell_type": "code",
   "execution_count": 23,
   "id": "33f10854",
   "metadata": {},
   "outputs": [
    {
     "data": {
      "text/plain": [
       "2984616"
      ]
     },
     "execution_count": 23,
     "metadata": {},
     "output_type": "execute_result"
    }
   ],
   "source": [
    "customer_2018_sub=filtered_2018_usertype['tripduration'][1]\n",
    "customer_2018_sub"
   ]
  },
  {
   "cell_type": "code",
   "execution_count": 24,
   "id": "37eab7b1",
   "metadata": {},
   "outputs": [
    {
     "data": {
      "text/plain": [
       "6"
      ]
     },
     "execution_count": 24,
     "metadata": {},
     "output_type": "execute_result"
    }
   ],
   "source": [
    "custumer_perc_2018=round(customer_2018_cus/filter2018*100)\n",
    "custumer_perc_2018\n"
   ]
  },
  {
   "cell_type": "code",
   "execution_count": 25,
   "id": "b4507ccb",
   "metadata": {},
   "outputs": [
    {
     "data": {
      "text/plain": [
       "94"
      ]
     },
     "execution_count": 25,
     "metadata": {},
     "output_type": "execute_result"
    }
   ],
   "source": [
    "subscriber_perc_2018 = round(customer_2018_sub/filter2018*100)\n",
    "subscriber_perc_2018"
   ]
  },
  {
   "cell_type": "code",
   "execution_count": 26,
   "id": "d01d3e00",
   "metadata": {},
   "outputs": [],
   "source": [
    "filter2019_usertype=combined_data[(combined_data.starttime >'2019-01-01') &(combined_data.starttime <='2019-12-31')]"
   ]
  },
  {
   "cell_type": "code",
   "execution_count": 27,
   "id": "8e5ab0b2",
   "metadata": {},
   "outputs": [],
   "source": [
    "filter2019_usertype_grouped = filter2019_usertype.groupby('usertype')"
   ]
  },
  {
   "cell_type": "code",
   "execution_count": 28,
   "id": "5c17fe66",
   "metadata": {},
   "outputs": [],
   "source": [
    "filtered_2019_usertype =filter2019_usertype_grouped.count()"
   ]
  },
  {
   "cell_type": "code",
   "execution_count": 29,
   "id": "c7ec45b5",
   "metadata": {},
   "outputs": [
    {
     "data": {
      "text/plain": [
       "386640"
      ]
     },
     "execution_count": 29,
     "metadata": {},
     "output_type": "execute_result"
    }
   ],
   "source": [
    "customer_2019_cus=filtered_2019_usertype['tripduration'][0]\n",
    "customer_2019_cus"
   ]
  },
  {
   "cell_type": "code",
   "execution_count": 30,
   "id": "97533991",
   "metadata": {},
   "outputs": [
    {
     "data": {
      "text/plain": [
       "3254004"
      ]
     },
     "execution_count": 30,
     "metadata": {},
     "output_type": "execute_result"
    }
   ],
   "source": [
    "customer_2019_sub = filtered_2019_usertype['tripduration'][1]\n",
    "customer_2019_sub"
   ]
  },
  {
   "cell_type": "code",
   "execution_count": 31,
   "id": "082024b6",
   "metadata": {},
   "outputs": [
    {
     "data": {
      "text/plain": [
       "11"
      ]
     },
     "execution_count": 31,
     "metadata": {},
     "output_type": "execute_result"
    }
   ],
   "source": [
    "custumer_perc_2019=round(customer_2019_cus/filter2019*100)\n",
    "custumer_perc_2019"
   ]
  },
  {
   "cell_type": "code",
   "execution_count": 32,
   "id": "1e88fc65",
   "metadata": {},
   "outputs": [
    {
     "data": {
      "text/plain": [
       "89"
      ]
     },
     "execution_count": 32,
     "metadata": {},
     "output_type": "execute_result"
    }
   ],
   "source": [
    "subscriber_perc_2019 = round(customer_2019_sub/filter2019*100)\n",
    "subscriber_perc_2019"
   ]
  },
  {
   "cell_type": "code",
   "execution_count": 33,
   "id": "b93cf68b",
   "metadata": {},
   "outputs": [
    {
     "name": "stdout",
     "output_type": "stream",
     "text": [
      "Total trips in 2018 and 2019:  6829551\n",
      "Total trips in 2018:  3184119\n",
      "Total trips in 2019:  3640644\n",
      "Percentage growth of ridership in 2019 :  14.337560876336594\n",
      "The proportion of short-term customers and annual subscribers in 2019 has changed by  5 %\n"
     ]
    }
   ],
   "source": [
    "print('Total trips in 2018 and 2019: ',len(combined_data.starttime))\n",
    "print('Total trips in 2018: ',filter2018)\n",
    "print('Total trips in 2019: ',filter2019)\n",
    "print('Percentage growth of ridership in 2019 : ', 100*(((filter2019-filter2018)/filter2018)))\n",
    "print('The proportion of short-term customers and annual subscribers in 2019 has changed by ',(custumer_perc_2019-custumer_perc_2018),'%')"
   ]
  },
  {
   "cell_type": "code",
   "execution_count": null,
   "id": "780d6666",
   "metadata": {
    "scrolled": true
   },
   "outputs": [],
   "source": [
    "combined_data.head(6)"
   ]
  },
  {
   "cell_type": "code",
   "execution_count": null,
   "id": "22f683fb",
   "metadata": {},
   "outputs": [],
   "source": [
    "combined_data.to_csv('cleaned_citibike_data.csv', index=False)"
   ]
  },
  {
   "cell_type": "code",
   "execution_count": null,
   "id": "4b64c827",
   "metadata": {},
   "outputs": [],
   "source": []
  }
 ],
 "metadata": {
  "kernelspec": {
   "display_name": "Python 3",
   "language": "python",
   "name": "python3"
  },
  "language_info": {
   "codemirror_mode": {
    "name": "ipython",
    "version": 3
   },
   "file_extension": ".py",
   "mimetype": "text/x-python",
   "name": "python",
   "nbconvert_exporter": "python",
   "pygments_lexer": "ipython3",
   "version": "3.8.8"
  }
 },
 "nbformat": 4,
 "nbformat_minor": 5
}
